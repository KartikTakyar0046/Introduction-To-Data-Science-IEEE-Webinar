{
 "cells": [
  {
   "cell_type": "code",
   "execution_count": 17,
   "metadata": {},
   "outputs": [
    {
     "name": "stdout",
     "output_type": "stream",
     "text": [
      "10\n",
      "23\n",
      "(2, 'hi', 3, 5)\n",
      "{'shakes': 'banaana', 'bird': 'sparrow', 'student': 'learning'}\n"
     ]
    }
   ],
   "source": [
    "def func(a, b , *x  ,**y):\n",
    "    print(a)\n",
    "    print(b)\n",
    "    print(x)\n",
    "    print(y)\n",
    "\n",
    "func(10,23 , 2,\"hi\",3,5 , shakes =\"banaana\" , bird = \"sparrow\" ,student = \"learning\")"
   ]
  },
  {
   "cell_type": "markdown",
   "metadata": {},
   "source": [
    "* - args\n",
    "** - kargs"
   ]
  },
  {
   "cell_type": "markdown",
   "metadata": {},
   "source": [
    "## built in functions\n",
    "* - eval\n",
    "* - enumerate\n",
    "* - any\n",
    "* - all"
   ]
  },
  {
   "cell_type": "code",
   "execution_count": 9,
   "metadata": {},
   "outputs": [],
   "source": [
    "s = \"1+10/2+abs(-3)\"\n"
   ]
  },
  {
   "cell_type": "code",
   "execution_count": 10,
   "metadata": {},
   "outputs": [
    {
     "data": {
      "text/plain": [
       "9.0"
      ]
     },
     "execution_count": 10,
     "metadata": {},
     "output_type": "execute_result"
    }
   ],
   "source": [
    "eval(s)"
   ]
  },
  {
   "cell_type": "code",
   "execution_count": 11,
   "metadata": {},
   "outputs": [
    {
     "data": {
      "text/plain": [
       "9.0"
      ]
     },
     "execution_count": 11,
     "metadata": {},
     "output_type": "execute_result"
    }
   ],
   "source": [
    "1+10/2+abs(-3)"
   ]
  },
  {
   "cell_type": "code",
   "execution_count": 13,
   "metadata": {},
   "outputs": [],
   "source": [
    "abs?"
   ]
  },
  {
   "cell_type": "code",
   "execution_count": null,
   "metadata": {},
   "outputs": [],
   "source": []
  },
  {
   "cell_type": "code",
   "execution_count": null,
   "metadata": {},
   "outputs": [],
   "source": []
  },
  {
   "cell_type": "code",
   "execution_count": 22,
   "metadata": {},
   "outputs": [
    {
     "name": "stdout",
     "output_type": "stream",
     "text": [
      "(0, 'mango')\n",
      "(1, 'apple')\n",
      "(2, 'banana')\n"
     ]
    }
   ],
   "source": [
    "l = [\"mango\" , \"apple\" , \"banana\"]\n",
    "for i in enumerate(l):\n",
    "    print(i)\n",
    "    "
   ]
  },
  {
   "cell_type": "code",
   "execution_count": 25,
   "metadata": {},
   "outputs": [
    {
     "name": "stdout",
     "output_type": "stream",
     "text": [
      "mango\n",
      "apple\n",
      "banana\n"
     ]
    }
   ],
   "source": [
    "for i in l:\n",
    "    print(i)"
   ]
  },
  {
   "cell_type": "code",
   "execution_count": null,
   "metadata": {},
   "outputs": [],
   "source": []
  },
  {
   "cell_type": "markdown",
   "metadata": {},
   "source": [
    "OOPS"
   ]
  },
  {
   "cell_type": "code",
   "execution_count": 44,
   "metadata": {},
   "outputs": [],
   "source": [
    "def func():\n",
    "    \"\"\"Hello\"\"\"\n",
    "    pass\n",
    "func?"
   ]
  },
  {
   "cell_type": "code",
   "execution_count": 35,
   "metadata": {},
   "outputs": [],
   "source": [
    "class person:\n",
    "    pass\n",
    "P = person()\n"
   ]
  },
  {
   "cell_type": "code",
   "execution_count": 36,
   "metadata": {},
   "outputs": [
    {
     "name": "stdout",
     "output_type": "stream",
     "text": [
      "<class '__main__.person'>\n"
     ]
    }
   ],
   "source": [
    "print(type(P))"
   ]
  },
  {
   "cell_type": "code",
   "execution_count": 67,
   "metadata": {},
   "outputs": [],
   "source": [
    "class Person:\n",
    "    nationality = \"Indians\"\n",
    "    def __init__(self , name , clg ):\n",
    "        self.name = name\n",
    "        self.clg = clg\n",
    "#     def __init__():\n",
    "#         pass\n",
    "    def sayHi(self , name):\n",
    "        \"\"\"this function says hi\"\"\"\n",
    "        print(self.name)\n",
    "        print(name)\n",
    "        self.__myprivatename(\"soham\")\n",
    "    def __myprivatename(self , name):\n",
    "        print(\"i am private func\")\n",
    "    \n",
    "# p = Person(\"Rahul\" , \"DTU\")"
   ]
  },
  {
   "cell_type": "code",
   "execution_count": 68,
   "metadata": {},
   "outputs": [
    {
     "name": "stdout",
     "output_type": "stream",
     "text": [
      "Rahul\n",
      "kaviya\n",
      "i am private func\n"
     ]
    },
    {
     "data": {
      "text/plain": [
       "'DTU'"
      ]
     },
     "execution_count": 68,
     "metadata": {},
     "output_type": "execute_result"
    }
   ],
   "source": [
    "p.sayHi(\"kaviya\")\n",
    "p.clg"
   ]
  },
  {
   "cell_type": "code",
   "execution_count": 69,
   "metadata": {},
   "outputs": [],
   "source": [
    "#p.__myprivatename(\"rahul\") #gives error"
   ]
  },
  {
   "cell_type": "code",
   "execution_count": 71,
   "metadata": {},
   "outputs": [
    {
     "name": "stdout",
     "output_type": "stream",
     "text": [
      "Indians\n",
      "rahul\n",
      "rahul\n",
      "i am private func\n"
     ]
    }
   ],
   "source": [
    "class Student(Person):\n",
    "    def __init__(self , name , clg):\n",
    "        print(self.nationality)\n",
    "        self.name = name\n",
    "        self.clg  =clg\n",
    "    \n",
    "s = Student(\"rahul\" , \"mait\")\n",
    "s.sayHi(\"rahul\")"
   ]
  },
  {
   "cell_type": "code",
   "execution_count": null,
   "metadata": {},
   "outputs": [],
   "source": []
  },
  {
   "cell_type": "code",
   "execution_count": null,
   "metadata": {},
   "outputs": [],
   "source": []
  }
 ],
 "metadata": {
  "kernelspec": {
   "display_name": "Python 3",
   "language": "python",
   "name": "python3"
  },
  "language_info": {
   "codemirror_mode": {
    "name": "ipython",
    "version": 3
   },
   "file_extension": ".py",
   "mimetype": "text/x-python",
   "name": "python",
   "nbconvert_exporter": "python",
   "pygments_lexer": "ipython3",
   "version": "3.7.6"
  }
 },
 "nbformat": 4,
 "nbformat_minor": 4
}
